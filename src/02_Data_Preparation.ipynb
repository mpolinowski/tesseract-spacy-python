{
 "cells": [
  {
   "cell_type": "code",
   "execution_count": 3,
   "id": "6503763d",
   "metadata": {},
   "outputs": [],
   "source": [
    "import numpy as np\n",
    "import pandas as pd\n",
    "import cv2 as cv\n",
    "import pytesseract as ts\n",
    "\n",
    "import os\n",
    "from glob import glob\n",
    "from tqdm import tqdm\n",
    "\n",
    "import warnings\n",
    "warnings.filterwarnings('ignore')"
   ]
  },
  {
   "cell_type": "markdown",
   "id": "03d8d18a",
   "metadata": {},
   "source": [
    "## Import an Image"
   ]
  },
  {
   "cell_type": "code",
   "execution_count": 14,
   "id": "eef0edc2",
   "metadata": {},
   "outputs": [],
   "source": [
    "imgPaths = glob('/opt/Python/pyOCR/images/*.jpg')"
   ]
  },
  {
   "cell_type": "code",
   "execution_count": 15,
   "id": "27b35b87",
   "metadata": {},
   "outputs": [
    {
     "name": "stdout",
     "output_type": "stream",
     "text": [
      "card_29.jpg\n"
     ]
    }
   ],
   "source": [
    "imgPath = imgPaths[0]\n",
    "_, filename = os.path.split(imgPath)"
   ]
  },
  {
   "cell_type": "markdown",
   "id": "2d680b8d",
   "metadata": {},
   "source": [
    "## Extract the Text"
   ]
  },
  {
   "cell_type": "code",
   "execution_count": 20,
   "id": "2bcecb3f",
   "metadata": {},
   "outputs": [],
   "source": [
    "image = cv.imread(imgPath)\n",
    "data = ts.image_to_data(image)\n",
    "\n",
    "dataList = list(map(lambda x: x.split('\\t'),data.split('\\n')))\n",
    "df = pd.DataFrame(dataList[1:], columns=dataList[0])"
   ]
  },
  {
   "cell_type": "code",
   "execution_count": 22,
   "id": "b16b81e2",
   "metadata": {},
   "outputs": [],
   "source": [
    "df.dropna(inplace=True)\n",
    "df['conf'] = df['conf'].astype(int)\n",
    "textData = df.query('conf >= 30')\n",
    "\n",
    "businessCard = pd.DataFrame()\n",
    "businessCard['text'] = textData['text']\n",
    "businessCard['id'] = filename"
   ]
  },
  {
   "cell_type": "markdown",
   "id": "903472d8",
   "metadata": {},
   "source": [
    "## Loop over all Images"
   ]
  },
  {
   "cell_type": "code",
   "execution_count": 26,
   "id": "b80dba53",
   "metadata": {},
   "outputs": [
    {
     "name": "stderr",
     "output_type": "stream",
     "text": [
      "Business Card: 100%|███████████████████████████████████████████████████████████████████████████████████████| 55/55 [00:16<00:00,  3.26it/s]\n"
     ]
    }
   ],
   "source": [
    "allBusinessCards = pd.DataFrame(columns=['id', 'text'])\n",
    "\n",
    "for imgPath in tqdm(imgPaths,desc=\"Business Card\"):\n",
    "\n",
    "    # Get Filenames\n",
    "    _, filename = os.path.split(imgPath)\n",
    "    # Extract Data\n",
    "    image = cv.imread(imgPath)\n",
    "    data = ts.image_to_data(image)\n",
    "    # Write Data to Frame\n",
    "    dataList = list(map(lambda x: x.split('\\t'),data.split('\\n')))\n",
    "    df = pd.DataFrame(dataList[1:], columns=dataList[0])\n",
    "    # Drop Everything that is not useful\n",
    "    df.dropna(inplace=True)\n",
    "    df['conf'] = df['conf'].astype(int)\n",
    "    textData = df.query('conf >= 30')\n",
    "    # Define a Business Card Entity\n",
    "    businessCard = pd.DataFrame()\n",
    "    businessCard['text'] = textData['text']\n",
    "    businessCard['id'] = filename\n",
    "    # Add Card to All Cards\n",
    "    allBusinessCards = pd.concat((allBusinessCards,businessCard))"
   ]
  },
  {
   "cell_type": "code",
   "execution_count": 28,
   "id": "610c06c3",
   "metadata": {},
   "outputs": [],
   "source": [
    "allBusinessCards.to_csv('businessCards.csv', index=False)"
   ]
  },
  {
   "cell_type": "code",
   "execution_count": null,
   "id": "ad1e1b5e",
   "metadata": {},
   "outputs": [],
   "source": []
  }
 ],
 "metadata": {
  "kernelspec": {
   "display_name": "Python 3 (ipykernel)",
   "language": "python",
   "name": "python3"
  },
  "language_info": {
   "codemirror_mode": {
    "name": "ipython",
    "version": 3
   },
   "file_extension": ".py",
   "mimetype": "text/x-python",
   "name": "python",
   "nbconvert_exporter": "python",
   "pygments_lexer": "ipython3",
   "version": "3.9.7"
  }
 },
 "nbformat": 4,
 "nbformat_minor": 5
}
