{
 "cells": [
  {
   "cell_type": "code",
   "execution_count": 1,
   "id": "f5f493fe",
   "metadata": {},
   "outputs": [],
   "source": [
    "import numpy as np\n",
    "import pandas as pd\n",
    "import cv2 as cv\n",
    "import pytesseract\n",
    "from glob import glob\n",
    "import spacy\n",
    "import re\n",
    "import string"
   ]
  },
  {
   "cell_type": "code",
   "execution_count": 2,
   "id": "a37a4cf0",
   "metadata": {},
   "outputs": [],
   "source": [
    "def cleanText(txt):\n",
    "    \n",
    "    whitespace = string.whitespace\n",
    "    punctuation = '!#$%&\\'()*+:;<=>?[\\\\]^`{|}~'\n",
    "    tableWhitespace = str.maketrans('','',whitespace)\n",
    "    tablePunctuation = str.maketrans('','',punctuation)\n",
    "\n",
    "    text = str(txt)\n",
    "    text = text.lower()\n",
    "    removeWhitespace = text.translate(tableWhitespace)\n",
    "    removePunctuation = removeWhitespace.translate(tablePunctuation)\n",
    "    \n",
    "    return str(removePunctuation)"
   ]
  },
  {
   "cell_type": "code",
   "execution_count": 3,
   "id": "496fea45",
   "metadata": {},
   "outputs": [],
   "source": [
    "model_ner = spacy.load('./output/model-best/')"
   ]
  },
  {
   "cell_type": "code",
   "execution_count": 4,
   "id": "c0244bd9",
   "metadata": {},
   "outputs": [],
   "source": [
    "image = cv.imread('../images/card_00.jpg')\n",
    "\n",
    "# cv.imshow('businesscard', image)\n",
    "# cv.waitKey(0)\n",
    "# cv.destroyAllWindows()"
   ]
  },
  {
   "cell_type": "code",
   "execution_count": 5,
   "id": "450d6380",
   "metadata": {},
   "outputs": [],
   "source": [
    "tessData = pytesseract.image_to_data(image)"
   ]
  },
  {
   "cell_type": "code",
   "execution_count": 6,
   "id": "13992ed5",
   "metadata": {},
   "outputs": [],
   "source": [
    "tessList = list(map(lambda x:x.split('\\t'),tessData.split('\\n')))\n",
    "df = pd.DataFrame(tessList[1:],columns=tessList[0])\n",
    "df.dropna(inplace=True) #Drop missing values\n",
    "df['text'] = df['text'].apply(cleanText) #Apply cleanText function on text column"
   ]
  },
  {
   "cell_type": "code",
   "execution_count": 7,
   "id": "73fb0eef",
   "metadata": {},
   "outputs": [],
   "source": [
    "df_clean = df.query('text !=\"\" ') #Ignore whitespace\n",
    "content = \" \".join([w for w in df_clean['text']]) #Join every word in text column concatenated by spaces"
   ]
  },
  {
   "cell_type": "code",
   "execution_count": 8,
   "id": "4599493f",
   "metadata": {},
   "outputs": [],
   "source": [
    "doc = model_ner(content)"
   ]
  },
  {
   "cell_type": "code",
   "execution_count": 9,
   "id": "70c62561",
   "metadata": {},
   "outputs": [
    {
     "data": {
      "text/html": [
       "<span class=\"tex2jax_ignore\"><div class=\"entities\" style=\"line-height: 2.5; direction: ltr\">\n",
       "<mark class=\"entity\" style=\"background: #ddd; padding: 0.45em 0.6em; margin: 0 0.25em; line-height: 1; border-radius: 0.35em;\">\n",
       "    mike\n",
       "    <span style=\"font-size: 0.8em; font-weight: bold; line-height: 1; border-radius: 0.35em; vertical-align: middle; margin-left: 0.5rem\">B-NAME</span>\n",
       "</mark>\n",
       " \n",
       "<mark class=\"entity\" style=\"background: #ddd; padding: 0.45em 0.6em; margin: 0 0.25em; line-height: 1; border-radius: 0.35em;\">\n",
       "    polinowski\n",
       "    <span style=\"font-size: 0.8em; font-weight: bold; line-height: 1; border-radius: 0.35em; vertical-align: middle; margin-left: 0.5rem\">I-NAME</span>\n",
       "</mark>\n",
       " chief procrastinator i 39c, street 318, boeung keng kong phnom penh, cambodia tel \n",
       "<mark class=\"entity\" style=\"background: #ddd; padding: 0.45em 0.6em; margin: 0 0.25em; line-height: 1; border-radius: 0.35em;\">\n",
       "    855\n",
       "    <span style=\"font-size: 0.8em; font-weight: bold; line-height: 1; border-radius: 0.35em; vertical-align: middle; margin-left: 0.5rem\">B-PHONE</span>\n",
       "</mark>\n",
       " \n",
       "<mark class=\"entity\" style=\"background: #ddd; padding: 0.45em 0.6em; margin: 0 0.25em; line-height: 1; border-radius: 0.35em;\">\n",
       "    0\n",
       "    <span style=\"font-size: 0.8em; font-weight: bold; line-height: 1; border-radius: 0.35em; vertical-align: middle; margin-left: 0.5rem\">I-PHONE</span>\n",
       "</mark>\n",
       " \n",
       "<mark class=\"entity\" style=\"background: #ddd; padding: 0.45em 0.6em; margin: 0 0.25em; line-height: 1; border-radius: 0.35em;\">\n",
       "    23\n",
       "    <span style=\"font-size: 0.8em; font-weight: bold; line-height: 1; border-radius: 0.35em; vertical-align: middle; margin-left: 0.5rem\">I-PHONE</span>\n",
       "</mark>\n",
       " \n",
       "<mark class=\"entity\" style=\"background: #ddd; padding: 0.45em 0.6em; margin: 0 0.25em; line-height: 1; border-radius: 0.35em;\">\n",
       "    21\n",
       "    <span style=\"font-size: 0.8em; font-weight: bold; line-height: 1; border-radius: 0.35em; vertical-align: middle; margin-left: 0.5rem\">I-PHONE</span>\n",
       "</mark>\n",
       " \n",
       "<mark class=\"entity\" style=\"background: #ddd; padding: 0.45em 0.6em; margin: 0 0.25em; line-height: 1; border-radius: 0.35em;\">\n",
       "    59\n",
       "    <span style=\"font-size: 0.8em; font-weight: bold; line-height: 1; border-radius: 0.35em; vertical-align: middle; margin-left: 0.5rem\">I-PHONE</span>\n",
       "</mark>\n",
       " \n",
       "<mark class=\"entity\" style=\"background: #ddd; padding: 0.45em 0.6em; margin: 0 0.25em; line-height: 1; border-radius: 0.35em;\">\n",
       "    60\n",
       "    <span style=\"font-size: 0.8em; font-weight: bold; line-height: 1; border-radius: 0.35em; vertical-align: middle; margin-left: 0.5rem\">I-PHONE</span>\n",
       "</mark>\n",
       " \n",
       "<mark class=\"entity\" style=\"background: #ddd; padding: 0.45em 0.6em; margin: 0 0.25em; line-height: 1; border-radius: 0.35em;\">\n",
       "    email\n",
       "    <span style=\"font-size: 0.8em; font-weight: bold; line-height: 1; border-radius: 0.35em; vertical-align: middle; margin-left: 0.5rem\">I-PHONE</span>\n",
       "</mark>\n",
       " \n",
       "<mark class=\"entity\" style=\"background: #ddd; padding: 0.45em 0.6em; margin: 0 0.25em; line-height: 1; border-radius: 0.35em;\">\n",
       "    me@example.com\n",
       "    <span style=\"font-size: 0.8em; font-weight: bold; line-height: 1; border-radius: 0.35em; vertical-align: middle; margin-left: 0.5rem\">B-EMAIL</span>\n",
       "</mark>\n",
       " \n",
       "<mark class=\"entity\" style=\"background: #ddd; padding: 0.45em 0.6em; margin: 0 0.25em; line-height: 1; border-radius: 0.35em;\">\n",
       "    www.some-place.com\n",
       "    <span style=\"font-size: 0.8em; font-weight: bold; line-height: 1; border-radius: 0.35em; vertical-align: middle; margin-left: 0.5rem\">B-WEB</span>\n",
       "</mark>\n",
       "</div></span>"
      ],
      "text/plain": [
       "<IPython.core.display.HTML object>"
      ]
     },
     "metadata": {},
     "output_type": "display_data"
    }
   ],
   "source": [
    "from spacy import displacy\n",
    "displacy.render(doc,style='ent')"
   ]
  },
  {
   "cell_type": "code",
   "execution_count": null,
   "id": "56bceb5f",
   "metadata": {},
   "outputs": [],
   "source": []
  },
  {
   "cell_type": "code",
   "execution_count": null,
   "id": "c12f96a0",
   "metadata": {},
   "outputs": [],
   "source": []
  }
 ],
 "metadata": {
  "kernelspec": {
   "display_name": "Python 3 (ipykernel)",
   "language": "python",
   "name": "python3"
  },
  "language_info": {
   "codemirror_mode": {
    "name": "ipython",
    "version": 3
   },
   "file_extension": ".py",
   "mimetype": "text/x-python",
   "name": "python",
   "nbconvert_exporter": "python",
   "pygments_lexer": "ipython3",
   "version": "3.9.9"
  }
 },
 "nbformat": 4,
 "nbformat_minor": 5
}
